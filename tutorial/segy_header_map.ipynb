{
 "cells": [
  {
   "cell_type": "markdown",
   "metadata": {},
   "source": [
    "## 4. Segy header map"
   ]
  },
  {
   "cell_type": "code",
   "execution_count": 1,
   "metadata": {},
   "outputs": [],
   "source": [
    "import numpy as np\n",
    "import pandas as pd"
   ]
  },
  {
   "cell_type": "code",
   "execution_count": 5,
   "metadata": {},
   "outputs": [],
   "source": [
    "import seismo_reader as sr"
   ]
  },
  {
   "cell_type": "markdown",
   "metadata": {},
   "source": [
    "### 4.1 Описание класса"
   ]
  },
  {
   "cell_type": "markdown",
   "metadata": {},
   "source": [
    "Маппинг полей заголовков трасс представляет из себя соответствие между названиями величин, хранящимися в заголовках трасс, и их расположением в байтовом представлении заголовка и типом данных. Например, координата X источника (Source X) в различных SEG-Y файлах может быть расположена в различных местах заголовка (по стандарту значение Source X расположено на байтах 73-76 от начала заголовка и имеет тип integer)."
   ]
  },
  {
   "cell_type": "markdown",
   "metadata": {},
   "source": [
    "Маппинг полей заголовков трасс осуществляется при помощи класса __sr.segy_header_map__. Описание методов класса можно получить по команде help:"
   ]
  },
  {
   "cell_type": "code",
   "execution_count": 6,
   "metadata": {},
   "outputs": [
    {
     "name": "stdout",
     "output_type": "stream",
     "text": [
      "Help on class segy_header_map in module seismo_reader:\n",
      "\n",
      "class segy_header_map(header_map)\n",
      " |  Method resolution order:\n",
      " |      segy_header_map\n",
      " |      header_map\n",
      " |      pybind11_builtins.pybind11_object\n",
      " |      builtins.object\n",
      " |  \n",
      " |  Methods defined here:\n",
      " |  \n",
      " |  __init__(...)\n",
      " |      __init__(*args, **kwargs)\n",
      " |      Overloaded function.\n",
      " |      \n",
      " |      1. __init__(self: seismo_reader.segy_header_map) -> None\n",
      " |      \n",
      " |      2. __init__(self: seismo_reader.segy_header_map, map_type: seismo_reader.header_map_type) -> None\n",
      " |      \n",
      " |      3. __init__(self: seismo_reader.segy_header_map, dict: Dict[str, Tuple[seismic_data_type, int, int, bool]]) -> None\n",
      " |      \n",
      " |      4. __init__(self: seismo_reader.segy_header_map, header_map: seismo_reader.segy_header_map) -> None\n",
      " |      \n",
      " |      5. __init__(self: seismo_reader.segy_header_map, header_map: seismo_reader.header_map) -> None\n",
      " |  \n",
      " |  ----------------------------------------------------------------------\n",
      " |  Methods inherited from header_map:\n",
      " |  \n",
      " |  clear(...)\n",
      " |      clear(self: seismo_reader.header_map) -> None\n",
      " |      \n",
      " |      Remove all headers field from map\n",
      " |  \n",
      " |  contains(...)\n",
      " |      contains(self: seismo_reader.header_map, field_name: str) -> bool\n",
      " |      \n",
      " |      Returns True if header map contains field with field_name, returns False otherwise\n",
      " |  \n",
      " |  count(...)\n",
      " |      count(self: seismo_reader.header_map) -> int\n",
      " |      \n",
      " |      Returns fields count\n",
      " |  \n",
      " |  description(...)\n",
      " |      description(self: seismo_reader.header_map) -> Dict[str, str]\n",
      " |      \n",
      " |      Get description for header map fields\n",
      " |  \n",
      " |  from_dict(...)\n",
      " |      from_dict(self: seismo_reader.header_map, arg0: Dict[str, Tuple[seismic_data_type, int, int, bool]]) -> None\n",
      " |      \n",
      " |      Set all fields info in header map using dict\n",
      " |  \n",
      " |  get(...)\n",
      " |      get(*args, **kwargs)\n",
      " |      Overloaded function.\n",
      " |      \n",
      " |      1. get(self: seismo_reader.header_map, field_index: int) -> Tuple[str, Tuple[seismic_data_type, int, int, bool]]\n",
      " |      \n",
      " |      Returns field info by index\n",
      " |      \n",
      " |      2. get(self: seismo_reader.header_map, field_name: str) -> Tuple[seismic_data_type, int, int, bool]\n",
      " |      \n",
      " |      Returns field info by name\n",
      " |  \n",
      " |  remove(...)\n",
      " |      remove(self: seismo_reader.header_map, field_name: str) -> None\n",
      " |      \n",
      " |      Remove header field by name\n",
      " |  \n",
      " |  set(...)\n",
      " |      set(*args, **kwargs)\n",
      " |      Overloaded function.\n",
      " |      \n",
      " |      1. set(self: seismo_reader.header_map, field_name: str, byte_location: int, byte_size: int, data_type: seismic_data_type) -> None\n",
      " |      \n",
      " |      Add/set field in trace header map\n",
      " |      \n",
      " |      2. set(self: seismo_reader.header_map, field_name: str, byte_location: int, byte_size: int, data_type: seismic_data_type, description: str = '') -> None\n",
      " |      \n",
      " |      Add/set field in trace header map\n",
      " |      \n",
      " |      3. set(self: seismo_reader.header_map, field_name: str, tuple kind of { data_type, byte_loc, byte_size}: Tuple[seismic_data_type, int, int, bool]) -> None\n",
      " |      \n",
      " |      Add/set field in trace header map\n",
      " |      \n",
      " |      4. set(self: seismo_reader.header_map, field_name: str, tuple kind of { data_type, byte_loc, byte_size}: Tuple[seismic_data_type, int, int, bool], description: str = '') -> None\n",
      " |      \n",
      " |      Add/set field in trace header map\n",
      " |  \n",
      " |  to_dict(...)\n",
      " |      to_dict(self: seismo_reader.header_map) -> Dict[str, Tuple[seismic_data_type, int, int, bool]]\n",
      " |      \n",
      " |      Returns dict with all fields info in header map\n",
      " |  \n",
      " |  type(...)\n",
      " |      type(self: seismo_reader.header_map) -> seismo_reader.header_map_type\n",
      " |      \n",
      " |      Returns map type\n",
      " |  \n",
      " |  ----------------------------------------------------------------------\n",
      " |  Methods inherited from pybind11_builtins.pybind11_object:\n",
      " |  \n",
      " |  __new__(*args, **kwargs) from pybind11_builtins.pybind11_type\n",
      " |      Create and return a new object.  See help(type) for accurate signature.\n",
      "\n"
     ]
    }
   ],
   "source": [
    "help(sr.segy_header_map)"
   ]
  },
  {
   "cell_type": "markdown",
   "metadata": {},
   "source": [
    "Класс представляет из себя хранилище по типу словаря, которое имеет вид __{ имя_поля : (тип данных, байтовая позиция, флаг обязательного поля) }__. Над хранилищем доступны следующие операции:\n",
    ">получение элемента<br>\n",
    ">изменение элемента<br>\n",
    ">добавление элемента<br>"
   ]
  },
  {
   "cell_type": "markdown",
   "metadata": {},
   "source": [
    "Класс поддерживает операции удаления всех полей, преобразования в __dict__ и из него."
   ]
  },
  {
   "cell_type": "markdown",
   "metadata": {},
   "source": [
    "Перечисление __sr.header_map_type__ содержит доступные шаблоны для маппинга. Пока что их всего 1 - стандартный."
   ]
  },
  {
   "cell_type": "markdown",
   "metadata": {},
   "source": [
    "Так же реализованы различные конструкторы класса, позволяющие создавать __segy_header_map__ по шаблону, из словаря и из существующего объекта типа __segy_header_map__."
   ]
  },
  {
   "cell_type": "markdown",
   "metadata": {},
   "source": [
    "Рассмотрим функционал класса __segy_header_map__ на примерах."
   ]
  },
  {
   "cell_type": "markdown",
   "metadata": {},
   "source": [
    "### 4.2 Создание и просмотр"
   ]
  },
  {
   "cell_type": "markdown",
   "metadata": {},
   "source": [
    "Создадим пустой объект класса __segy_header_map__."
   ]
  },
  {
   "cell_type": "code",
   "execution_count": 7,
   "metadata": {},
   "outputs": [],
   "source": [
    "hm = sr.segy_header_map()"
   ]
  },
  {
   "cell_type": "markdown",
   "metadata": {},
   "source": [
    "Преобразование маппинга в __dict__ осуществляется при помощи метода __segy_header_map.to_dict__():"
   ]
  },
  {
   "cell_type": "code",
   "execution_count": 8,
   "metadata": {},
   "outputs": [
    {
     "data": {
      "text/plain": [
       "{'Alias filter freq': (seismic_data_type.USHORT, 140, 2, False),\n",
       " 'Alias filter slope': (seismic_data_type.USHORT, 142, 2, False),\n",
       " 'CDP': (seismic_data_type.INT, 20, 4, True),\n",
       " 'CDP X': (seismic_data_type.INT, 180, 4, True),\n",
       " 'CDP Y': (seismic_data_type.INT, 184, 4, True),\n",
       " 'Coord units': (seismic_data_type.USHORT, 88, 2, False),\n",
       " 'Correlated': (seismic_data_type.USHORT, 124, 2, False),\n",
       " 'Crossline': (seismic_data_type.INT, 192, 4, True),\n",
       " 'Data use': (seismic_data_type.SHORT, 34, 2, False),\n",
       " 'Day': (seismic_data_type.USHORT, 158, 2, False),\n",
       " 'Dhotpoint no': (seismic_data_type.INT, 196, 4, False),\n",
       " 'Energy src point': (seismic_data_type.INT, 16, 4, False),\n",
       " 'Ensemble trc no': (seismic_data_type.INT, 24, 4, False),\n",
       " 'Gain const': (seismic_data_type.SHORT, 120, 2, False),\n",
       " 'Gain init': (seismic_data_type.SHORT, 122, 2, False),\n",
       " 'Gain type': (seismic_data_type.USHORT, 118, 2, False),\n",
       " 'Gap size': (seismic_data_type.USHORT, 176, 2, False),\n",
       " 'Gph grp lst trc': (seismic_data_type.USHORT, 174, 2, False),\n",
       " 'Gph grp roll': (seismic_data_type.USHORT, 170, 2, False),\n",
       " 'Gph grp trc': (seismic_data_type.USHORT, 172, 2, False),\n",
       " 'Group X': (seismic_data_type.INT, 80, 4, False),\n",
       " 'Group Y': (seismic_data_type.INT, 84, 4, False),\n",
       " 'Group stat corr': (seismic_data_type.SHORT, 100, 2, False),\n",
       " 'Group uphole time': (seismic_data_type.USHORT, 96, 2, False),\n",
       " 'High cut freq': (seismic_data_type.USHORT, 150, 2, False),\n",
       " 'High cut slope': (seismic_data_type.SHORT, 154, 2, False),\n",
       " 'Hor stacked trcs': (seismic_data_type.SHORT, 32, 2, False),\n",
       " 'Hour': (seismic_data_type.USHORT, 160, 2, False),\n",
       " 'Inline': (seismic_data_type.INT, 188, 4, True),\n",
       " 'Lag A': (seismic_data_type.SHORT, 104, 2, False),\n",
       " 'Lag B': (seismic_data_type.SHORT, 106, 2, False),\n",
       " 'Low cut freq': (seismic_data_type.USHORT, 148, 2, False),\n",
       " 'Low cut slope': (seismic_data_type.SHORT, 152, 2, False),\n",
       " 'Minute': (seismic_data_type.USHORT, 162, 2, False),\n",
       " 'Mute end': (seismic_data_type.SHORT, 112, 2, False),\n",
       " 'Mute start': (seismic_data_type.SHORT, 110, 2, False),\n",
       " 'Notch filter freq': (seismic_data_type.USHORT, 144, 2, False),\n",
       " 'Notch filter slope': (seismic_data_type.USHORT, 146, 2, False),\n",
       " 'Offset': (seismic_data_type.INT, 36, 4, False),\n",
       " 'Orig field no': (seismic_data_type.INT, 8, 4, False),\n",
       " 'Otrav': (seismic_data_type.USHORT, 178, 2, False),\n",
       " 'Rec datum': (seismic_data_type.INT, 52, 4, False),\n",
       " 'Rec delay': (seismic_data_type.SHORT, 108, 2, False),\n",
       " 'Rec elevation': (seismic_data_type.INT, 40, 4, False),\n",
       " 'Rec wheight': (seismic_data_type.INT, 64, 4, False),\n",
       " 'Sample interval': (seismic_data_type.SHORT, 116, 2, True),\n",
       " 'Samples count': (seismic_data_type.SHORT, 114, 2, True),\n",
       " 'Scalar coords': (seismic_data_type.SHORT, 70, 2, True),\n",
       " 'Scalar elevation': (seismic_data_type.SHORT, 68, 2, False),\n",
       " 'Scr type orien': (seismic_data_type.SHORT, 216, 2, False),\n",
       " 'Second': (seismic_data_type.USHORT, 164, 2, False),\n",
       " 'Shotpoint scalar': (seismic_data_type.SHORT, 200, 2, False),\n",
       " 'Src X': (seismic_data_type.INT, 72, 4, True),\n",
       " 'Src Y': (seismic_data_type.INT, 76, 4, True),\n",
       " 'Src datum': (seismic_data_type.INT, 56, 4, False),\n",
       " 'Src depth': (seismic_data_type.INT, 48, 4, False),\n",
       " 'Src elevation': (seismic_data_type.INT, 44, 4, False),\n",
       " 'Src stat corr': (seismic_data_type.SHORT, 98, 2, False),\n",
       " 'Src units': (seismic_data_type.SHORT, 230, 2, False),\n",
       " 'Src uphole time': (seismic_data_type.USHORT, 94, 2, False),\n",
       " 'Src wheight': (seismic_data_type.INT, 60, 4, False),\n",
       " 'Subweather vel': (seismic_data_type.SHORT, 92, 2, False),\n",
       " 'Sweep freq end': (seismic_data_type.SHORT, 128, 2, False),\n",
       " 'Sweep freq start': (seismic_data_type.SHORT, 126, 2, False),\n",
       " 'Sweep len': (seismic_data_type.SHORT, 130, 2, False),\n",
       " 'Sweep type': (seismic_data_type.USHORT, 132, 2, False),\n",
       " 'Taper len end': (seismic_data_type.USHORT, 136, 2, False),\n",
       " 'Taper len start': (seismic_data_type.USHORT, 134, 2, False),\n",
       " 'Taper type': (seismic_data_type.USHORT, 138, 2, False),\n",
       " 'Tcr no': (seismic_data_type.INT, 12, 4, False),\n",
       " 'Time code': (seismic_data_type.USHORT, 166, 2, False),\n",
       " 'Time scal': (seismic_data_type.SHORT, 214, 2, False),\n",
       " 'Total static': (seismic_data_type.SHORT, 102, 2, False),\n",
       " 'Trace units': (seismic_data_type.SHORT, 202, 2, True),\n",
       " 'Trans const mant': (seismic_data_type.INT, 204, 4, False),\n",
       " 'Trans const pow': (seismic_data_type.SHORT, 208, 2, False),\n",
       " 'Trans units': (seismic_data_type.SHORT, 210, 2, False),\n",
       " 'Trc id': (seismic_data_type.SHORT, 28, 2, False),\n",
       " 'Trc seq line': (seismic_data_type.INT, 0, 4, False),\n",
       " 'Trc seq no': (seismic_data_type.INT, 4, 4, False),\n",
       " 'Trc w factor': (seismic_data_type.USHORT, 168, 2, False),\n",
       " 'Vert summed trcs': (seismic_data_type.SHORT, 30, 2, False),\n",
       " 'Weather vel': (seismic_data_type.SHORT, 90, 2, False),\n",
       " 'Year': (seismic_data_type.USHORT, 156, 2, False)}"
      ]
     },
     "execution_count": 8,
     "metadata": {},
     "output_type": "execute_result"
    }
   ],
   "source": [
    "hm.to_dict()"
   ]
  },
  {
   "cell_type": "markdown",
   "metadata": {},
   "source": [
    "Как видим, созданный пустой маппинг содержит довольно много полей, так как по умолчанию пустой конструктор создают маппинг по стандартному шаблону. В этом можно убедиться, вызвав метод __segy_header_map.type()__:"
   ]
  },
  {
   "cell_type": "code",
   "execution_count": 9,
   "metadata": {},
   "outputs": [
    {
     "data": {
      "text/plain": [
       "header_map_type.STANDARD"
      ]
     },
     "execution_count": 9,
     "metadata": {},
     "output_type": "execute_result"
    }
   ],
   "source": [
    "hm.type()"
   ]
  },
  {
   "cell_type": "markdown",
   "metadata": {},
   "source": [
    "Запомним полученный словарь и создадим маппинг при помощи конструктора __init__ __(dict)__."
   ]
  },
  {
   "cell_type": "code",
   "execution_count": 10,
   "metadata": {},
   "outputs": [],
   "source": [
    "d = hm.to_dict()\n",
    "hm = sr.segy_header_map(d)"
   ]
  },
  {
   "cell_type": "code",
   "execution_count": 11,
   "metadata": {},
   "outputs": [
    {
     "data": {
      "text/plain": [
       "True"
      ]
     },
     "execution_count": 11,
     "metadata": {},
     "output_type": "execute_result"
    }
   ],
   "source": [
    "d == hm.to_dict()"
   ]
  },
  {
   "cell_type": "markdown",
   "metadata": {},
   "source": [
    "Так же доступен конструктор копирования:"
   ]
  },
  {
   "cell_type": "code",
   "execution_count": 12,
   "metadata": {},
   "outputs": [],
   "source": [
    "hm = sr.segy_header_map(hm)"
   ]
  },
  {
   "cell_type": "code",
   "execution_count": 13,
   "metadata": {},
   "outputs": [
    {
     "data": {
      "text/plain": [
       "True"
      ]
     },
     "execution_count": 13,
     "metadata": {},
     "output_type": "execute_result"
    }
   ],
   "source": [
    "d == hm.to_dict()"
   ]
  },
  {
   "cell_type": "markdown",
   "metadata": {},
   "source": [
    "Чтобы создать пустой маппинг, необходимо вызвать конструктор __init__ __(self, map_type)__ с параметром __header_map_type.CUSTOM__."
   ]
  },
  {
   "cell_type": "code",
   "execution_count": 14,
   "metadata": {},
   "outputs": [],
   "source": [
    "hm = sr.segy_header_map(sr.header_map_type.CUSTOM)"
   ]
  },
  {
   "cell_type": "code",
   "execution_count": 15,
   "metadata": {},
   "outputs": [
    {
     "data": {
      "text/plain": [
       "{'CDP': (seismic_data_type.INT, 20, 4, True),\n",
       " 'CDP X': (seismic_data_type.INT, 180, 4, True),\n",
       " 'CDP Y': (seismic_data_type.INT, 184, 4, True),\n",
       " 'Crossline': (seismic_data_type.INT, 192, 4, True),\n",
       " 'Inline': (seismic_data_type.INT, 188, 4, True),\n",
       " 'Sample interval': (seismic_data_type.SHORT, 116, 2, True),\n",
       " 'Samples count': (seismic_data_type.SHORT, 114, 2, True),\n",
       " 'Scalar coords': (seismic_data_type.SHORT, 70, 2, True),\n",
       " 'Src X': (seismic_data_type.INT, 72, 4, True),\n",
       " 'Src Y': (seismic_data_type.INT, 76, 4, True),\n",
       " 'Trace units': (seismic_data_type.SHORT, 202, 2, True)}"
      ]
     },
     "execution_count": 15,
     "metadata": {},
     "output_type": "execute_result"
    }
   ],
   "source": [
    "hm.to_dict()"
   ]
  },
  {
   "cell_type": "markdown",
   "metadata": {},
   "source": [
    "Получившийся маппинг непустой. Это связанно с тем, что есть некоторый набор обязательных полей маппинга, без которых работа с SEG-Y файлом будет невозможной. Таких полей порядка 10 и их невозможно удалить, можно только редактировать их тип и байтовое расположение."
   ]
  },
  {
   "cell_type": "markdown",
   "metadata": {},
   "source": [
    "Краткое описание полей можно получить, вызвав метод __segy_header_map.description()__:"
   ]
  },
  {
   "cell_type": "code",
   "execution_count": 16,
   "metadata": {},
   "outputs": [
    {
     "data": {
      "text/plain": [
       "{'CDP': 'CDP, CMP, CRP, etc',\n",
       " 'CDP X': 'X coordinate of ensemble (CDP) position of this trace (scalar in Standard TraceHeader bytes 71-72 applies)',\n",
       " 'CDP Y': 'Y coordinate of ensemble (CDP) position of this trace (scalar in Standard TraceHeader bytes 71-72 applies)',\n",
       " 'Crossline': 'For 3-D poststack data, this field should be used for the cross-line number',\n",
       " 'Inline': 'For 3-D poststack data, this field should be used for the in-line number',\n",
       " 'Sample interval': 'Sample interval for this trace',\n",
       " 'Samples count': 'Number of samples in this trace',\n",
       " 'Scalar coords': 'Scalar to be applied to all coordinates specified in Standard Trace Header bytes73-88 and to bytes Trace Header 181-188 to give the real value',\n",
       " 'Src X': 'Source coordinate - X',\n",
       " 'Src Y': 'Source coordinate - Y',\n",
       " 'Trace units': 'Trace value measurement unit: -1 = Other; 0 = Unknown; 1 = Pascal (Pa); 2 = Volts (v); 3 = Millivolts (mV); 4 = Amperes (A); 5 = Meters (m); 6 = Meters per second (m/s);7 = Meters per second squared (m/s2); 8 = Newton (N); 9 = Watt (W)'}"
      ]
     },
     "execution_count": 16,
     "metadata": {},
     "output_type": "execute_result"
    }
   ],
   "source": [
    "hm.description()"
   ]
  },
  {
   "cell_type": "markdown",
   "metadata": {},
   "source": [
    "Создадим новый маппинг и приведем его информацию в более красивый вид для вывода пользователю-интерпретатору.\n",
    "\n",
    "Для этого сделаем следующее:<br>\n",
    ">1. Заполним два DataFrame, один с полями, второй с описаниями полей<br>\n",
    ">2. Сольем полученные DataFrame в один<br>\n",
    ">3. Разобьем снова на 2 по значению столбца Required, удалим этот столбец и отсортируем в порядке Byte position"
   ]
  },
  {
   "cell_type": "code",
   "execution_count": 17,
   "metadata": {},
   "outputs": [],
   "source": [
    "hm = sr.segy_header_map()\n",
    "d = hm.to_dict()\n",
    "dd = hm.description()"
   ]
  },
  {
   "cell_type": "code",
   "execution_count": 18,
   "metadata": {},
   "outputs": [],
   "source": [
    "# Заполним отдельно 2 DataFrame'а, один со значениями полей, второй с описанием\n",
    "type = []\n",
    "pos = []\n",
    "size = []\n",
    "req = []\n",
    "for v in list(d.values()):\n",
    "    type.append(v[0].name)\n",
    "    pos.append(v[1])\n",
    "    size.append(v[2])\n",
    "    req.append(v[3])\n",
    "    \n",
    "df_values = pd.DataFrame({'Type' : type, 'Byte position' : pos, 'Byte size' : size, 'Required' : req}, index=list(d.keys()))\n",
    "df_descr = pd.DataFrame({'Description' : list(dd.values())}, index=list(dd.keys()))"
   ]
  },
  {
   "cell_type": "code",
   "execution_count": 19,
   "metadata": {},
   "outputs": [],
   "source": [
    "df = pd.concat([df_values, df_descr], axis=1)"
   ]
  },
  {
   "cell_type": "code",
   "execution_count": 20,
   "metadata": {},
   "outputs": [
    {
     "data": {
      "text/html": [
       "<div>\n",
       "<style scoped>\n",
       "    .dataframe tbody tr th:only-of-type {\n",
       "        vertical-align: middle;\n",
       "    }\n",
       "\n",
       "    .dataframe tbody tr th {\n",
       "        vertical-align: top;\n",
       "    }\n",
       "\n",
       "    .dataframe thead th {\n",
       "        text-align: right;\n",
       "    }\n",
       "</style>\n",
       "<table border=\"1\" class=\"dataframe\">\n",
       "  <thead>\n",
       "    <tr style=\"text-align: right;\">\n",
       "      <th></th>\n",
       "      <th>Type</th>\n",
       "      <th>Byte position</th>\n",
       "      <th>Byte size</th>\n",
       "      <th>Required</th>\n",
       "      <th>Description</th>\n",
       "    </tr>\n",
       "  </thead>\n",
       "  <tbody>\n",
       "    <tr>\n",
       "      <th>Alias filter freq</th>\n",
       "      <td>USHORT</td>\n",
       "      <td>140</td>\n",
       "      <td>2</td>\n",
       "      <td>False</td>\n",
       "      <td>Alias filter frequency (Hz), if used</td>\n",
       "    </tr>\n",
       "    <tr>\n",
       "      <th>Alias filter slope</th>\n",
       "      <td>USHORT</td>\n",
       "      <td>142</td>\n",
       "      <td>2</td>\n",
       "      <td>False</td>\n",
       "      <td>Alias filter slope (dB/octave)</td>\n",
       "    </tr>\n",
       "    <tr>\n",
       "      <th>CDP</th>\n",
       "      <td>INT</td>\n",
       "      <td>20</td>\n",
       "      <td>4</td>\n",
       "      <td>True</td>\n",
       "      <td>CDP, CMP, CRP, etc</td>\n",
       "    </tr>\n",
       "    <tr>\n",
       "      <th>CDP X</th>\n",
       "      <td>INT</td>\n",
       "      <td>180</td>\n",
       "      <td>4</td>\n",
       "      <td>True</td>\n",
       "      <td>X coordinate of ensemble (CDP) position of thi...</td>\n",
       "    </tr>\n",
       "    <tr>\n",
       "      <th>CDP Y</th>\n",
       "      <td>INT</td>\n",
       "      <td>184</td>\n",
       "      <td>4</td>\n",
       "      <td>True</td>\n",
       "      <td>Y coordinate of ensemble (CDP) position of thi...</td>\n",
       "    </tr>\n",
       "    <tr>\n",
       "      <th>...</th>\n",
       "      <td>...</td>\n",
       "      <td>...</td>\n",
       "      <td>...</td>\n",
       "      <td>...</td>\n",
       "      <td>...</td>\n",
       "    </tr>\n",
       "    <tr>\n",
       "      <th>Trc seq no</th>\n",
       "      <td>INT</td>\n",
       "      <td>4</td>\n",
       "      <td>4</td>\n",
       "      <td>False</td>\n",
       "      <td>Trace sequence number within SEG-Y file - Each...</td>\n",
       "    </tr>\n",
       "    <tr>\n",
       "      <th>Trc w factor</th>\n",
       "      <td>USHORT</td>\n",
       "      <td>168</td>\n",
       "      <td>2</td>\n",
       "      <td>False</td>\n",
       "      <td>Trace weighting factor</td>\n",
       "    </tr>\n",
       "    <tr>\n",
       "      <th>Vert summed trcs</th>\n",
       "      <td>SHORT</td>\n",
       "      <td>30</td>\n",
       "      <td>2</td>\n",
       "      <td>False</td>\n",
       "      <td>Number of vertically summed traces yielding th...</td>\n",
       "    </tr>\n",
       "    <tr>\n",
       "      <th>Weather vel</th>\n",
       "      <td>SHORT</td>\n",
       "      <td>90</td>\n",
       "      <td>2</td>\n",
       "      <td>False</td>\n",
       "      <td>Weathering velocity (ft/s or m/s as specified ...</td>\n",
       "    </tr>\n",
       "    <tr>\n",
       "      <th>Year</th>\n",
       "      <td>USHORT</td>\n",
       "      <td>156</td>\n",
       "      <td>2</td>\n",
       "      <td>False</td>\n",
       "      <td>Year data recorded</td>\n",
       "    </tr>\n",
       "  </tbody>\n",
       "</table>\n",
       "<p>84 rows × 5 columns</p>\n",
       "</div>"
      ],
      "text/plain": [
       "                      Type  Byte position  Byte size  Required  \\\n",
       "Alias filter freq   USHORT            140          2     False   \n",
       "Alias filter slope  USHORT            142          2     False   \n",
       "CDP                    INT             20          4      True   \n",
       "CDP X                  INT            180          4      True   \n",
       "CDP Y                  INT            184          4      True   \n",
       "...                    ...            ...        ...       ...   \n",
       "Trc seq no             INT              4          4     False   \n",
       "Trc w factor        USHORT            168          2     False   \n",
       "Vert summed trcs     SHORT             30          2     False   \n",
       "Weather vel          SHORT             90          2     False   \n",
       "Year                USHORT            156          2     False   \n",
       "\n",
       "                                                          Description  \n",
       "Alias filter freq                Alias filter frequency (Hz), if used  \n",
       "Alias filter slope                     Alias filter slope (dB/octave)  \n",
       "CDP                                                CDP, CMP, CRP, etc  \n",
       "CDP X               X coordinate of ensemble (CDP) position of thi...  \n",
       "CDP Y               Y coordinate of ensemble (CDP) position of thi...  \n",
       "...                                                               ...  \n",
       "Trc seq no          Trace sequence number within SEG-Y file - Each...  \n",
       "Trc w factor                                   Trace weighting factor  \n",
       "Vert summed trcs    Number of vertically summed traces yielding th...  \n",
       "Weather vel         Weathering velocity (ft/s or m/s as specified ...  \n",
       "Year                                               Year data recorded  \n",
       "\n",
       "[84 rows x 5 columns]"
      ]
     },
     "execution_count": 20,
     "metadata": {},
     "output_type": "execute_result"
    }
   ],
   "source": [
    "df"
   ]
  },
  {
   "cell_type": "markdown",
   "metadata": {},
   "source": [
    "Так как поля маппинга делятся на обязательные и необязательные, было бы неплохо изначально показывать интерпретатору только обязательные поля, а все поля показывать опционально, чтобы не забивать его голову лишней информацией. Для этого разделим получивщийся DataFrame на два: с обязательными полями и общий."
   ]
  },
  {
   "cell_type": "code",
   "execution_count": 21,
   "metadata": {},
   "outputs": [],
   "source": [
    "df_req = df[df['Required'] == True].drop('Required', 1).sort_values(by='Byte position')\n",
    "df_all = df.drop('Required', 1).sort_values(by='Byte position')"
   ]
  },
  {
   "cell_type": "code",
   "execution_count": 22,
   "metadata": {},
   "outputs": [
    {
     "data": {
      "text/html": [
       "<div>\n",
       "<style scoped>\n",
       "    .dataframe tbody tr th:only-of-type {\n",
       "        vertical-align: middle;\n",
       "    }\n",
       "\n",
       "    .dataframe tbody tr th {\n",
       "        vertical-align: top;\n",
       "    }\n",
       "\n",
       "    .dataframe thead th {\n",
       "        text-align: right;\n",
       "    }\n",
       "</style>\n",
       "<table border=\"1\" class=\"dataframe\">\n",
       "  <thead>\n",
       "    <tr style=\"text-align: right;\">\n",
       "      <th></th>\n",
       "      <th>Type</th>\n",
       "      <th>Byte position</th>\n",
       "      <th>Byte size</th>\n",
       "      <th>Description</th>\n",
       "    </tr>\n",
       "  </thead>\n",
       "  <tbody>\n",
       "    <tr>\n",
       "      <th>CDP</th>\n",
       "      <td>INT</td>\n",
       "      <td>20</td>\n",
       "      <td>4</td>\n",
       "      <td>CDP, CMP, CRP, etc</td>\n",
       "    </tr>\n",
       "    <tr>\n",
       "      <th>Scalar coords</th>\n",
       "      <td>SHORT</td>\n",
       "      <td>70</td>\n",
       "      <td>2</td>\n",
       "      <td>Scalar to be applied to all coordinates specif...</td>\n",
       "    </tr>\n",
       "    <tr>\n",
       "      <th>Src X</th>\n",
       "      <td>INT</td>\n",
       "      <td>72</td>\n",
       "      <td>4</td>\n",
       "      <td>Source coordinate - X</td>\n",
       "    </tr>\n",
       "    <tr>\n",
       "      <th>Src Y</th>\n",
       "      <td>INT</td>\n",
       "      <td>76</td>\n",
       "      <td>4</td>\n",
       "      <td>Source coordinate - Y</td>\n",
       "    </tr>\n",
       "    <tr>\n",
       "      <th>Samples count</th>\n",
       "      <td>SHORT</td>\n",
       "      <td>114</td>\n",
       "      <td>2</td>\n",
       "      <td>Number of samples in this trace</td>\n",
       "    </tr>\n",
       "    <tr>\n",
       "      <th>Sample interval</th>\n",
       "      <td>SHORT</td>\n",
       "      <td>116</td>\n",
       "      <td>2</td>\n",
       "      <td>Sample interval for this trace</td>\n",
       "    </tr>\n",
       "    <tr>\n",
       "      <th>CDP X</th>\n",
       "      <td>INT</td>\n",
       "      <td>180</td>\n",
       "      <td>4</td>\n",
       "      <td>X coordinate of ensemble (CDP) position of thi...</td>\n",
       "    </tr>\n",
       "    <tr>\n",
       "      <th>CDP Y</th>\n",
       "      <td>INT</td>\n",
       "      <td>184</td>\n",
       "      <td>4</td>\n",
       "      <td>Y coordinate of ensemble (CDP) position of thi...</td>\n",
       "    </tr>\n",
       "    <tr>\n",
       "      <th>Inline</th>\n",
       "      <td>INT</td>\n",
       "      <td>188</td>\n",
       "      <td>4</td>\n",
       "      <td>For 3-D poststack data, this field should be u...</td>\n",
       "    </tr>\n",
       "    <tr>\n",
       "      <th>Crossline</th>\n",
       "      <td>INT</td>\n",
       "      <td>192</td>\n",
       "      <td>4</td>\n",
       "      <td>For 3-D poststack data, this field should be u...</td>\n",
       "    </tr>\n",
       "    <tr>\n",
       "      <th>Trace units</th>\n",
       "      <td>SHORT</td>\n",
       "      <td>202</td>\n",
       "      <td>2</td>\n",
       "      <td>Trace value measurement unit: -1 = Other; 0 = ...</td>\n",
       "    </tr>\n",
       "  </tbody>\n",
       "</table>\n",
       "</div>"
      ],
      "text/plain": [
       "                  Type  Byte position  Byte size  \\\n",
       "CDP                INT             20          4   \n",
       "Scalar coords    SHORT             70          2   \n",
       "Src X              INT             72          4   \n",
       "Src Y              INT             76          4   \n",
       "Samples count    SHORT            114          2   \n",
       "Sample interval  SHORT            116          2   \n",
       "CDP X              INT            180          4   \n",
       "CDP Y              INT            184          4   \n",
       "Inline             INT            188          4   \n",
       "Crossline          INT            192          4   \n",
       "Trace units      SHORT            202          2   \n",
       "\n",
       "                                                       Description  \n",
       "CDP                                             CDP, CMP, CRP, etc  \n",
       "Scalar coords    Scalar to be applied to all coordinates specif...  \n",
       "Src X                                        Source coordinate - X  \n",
       "Src Y                                        Source coordinate - Y  \n",
       "Samples count                      Number of samples in this trace  \n",
       "Sample interval                     Sample interval for this trace  \n",
       "CDP X            X coordinate of ensemble (CDP) position of thi...  \n",
       "CDP Y            Y coordinate of ensemble (CDP) position of thi...  \n",
       "Inline           For 3-D poststack data, this field should be u...  \n",
       "Crossline        For 3-D poststack data, this field should be u...  \n",
       "Trace units      Trace value measurement unit: -1 = Other; 0 = ...  "
      ]
     },
     "execution_count": 22,
     "metadata": {},
     "output_type": "execute_result"
    }
   ],
   "source": [
    "df_req"
   ]
  },
  {
   "cell_type": "code",
   "execution_count": 23,
   "metadata": {},
   "outputs": [
    {
     "data": {
      "text/html": [
       "<div>\n",
       "<style scoped>\n",
       "    .dataframe tbody tr th:only-of-type {\n",
       "        vertical-align: middle;\n",
       "    }\n",
       "\n",
       "    .dataframe tbody tr th {\n",
       "        vertical-align: top;\n",
       "    }\n",
       "\n",
       "    .dataframe thead th {\n",
       "        text-align: right;\n",
       "    }\n",
       "</style>\n",
       "<table border=\"1\" class=\"dataframe\">\n",
       "  <thead>\n",
       "    <tr style=\"text-align: right;\">\n",
       "      <th></th>\n",
       "      <th>Type</th>\n",
       "      <th>Byte position</th>\n",
       "      <th>Byte size</th>\n",
       "      <th>Description</th>\n",
       "    </tr>\n",
       "  </thead>\n",
       "  <tbody>\n",
       "    <tr>\n",
       "      <th>Trc seq line</th>\n",
       "      <td>INT</td>\n",
       "      <td>0</td>\n",
       "      <td>4</td>\n",
       "      <td>Trace sequence number within line - Numbers co...</td>\n",
       "    </tr>\n",
       "    <tr>\n",
       "      <th>Trc seq no</th>\n",
       "      <td>INT</td>\n",
       "      <td>4</td>\n",
       "      <td>4</td>\n",
       "      <td>Trace sequence number within SEG-Y file - Each...</td>\n",
       "    </tr>\n",
       "    <tr>\n",
       "      <th>Orig field no</th>\n",
       "      <td>INT</td>\n",
       "      <td>8</td>\n",
       "      <td>4</td>\n",
       "      <td>Original field record number</td>\n",
       "    </tr>\n",
       "    <tr>\n",
       "      <th>Tcr no</th>\n",
       "      <td>INT</td>\n",
       "      <td>12</td>\n",
       "      <td>4</td>\n",
       "      <td>Trace number within the original field record</td>\n",
       "    </tr>\n",
       "    <tr>\n",
       "      <th>Energy src point</th>\n",
       "      <td>INT</td>\n",
       "      <td>16</td>\n",
       "      <td>4</td>\n",
       "      <td>Energy source point number - Used when more th...</td>\n",
       "    </tr>\n",
       "    <tr>\n",
       "      <th>...</th>\n",
       "      <td>...</td>\n",
       "      <td>...</td>\n",
       "      <td>...</td>\n",
       "      <td>...</td>\n",
       "    </tr>\n",
       "    <tr>\n",
       "      <th>Trans const pow</th>\n",
       "      <td>SHORT</td>\n",
       "      <td>208</td>\n",
       "      <td>2</td>\n",
       "      <td>Transduction Constant power</td>\n",
       "    </tr>\n",
       "    <tr>\n",
       "      <th>Trans units</th>\n",
       "      <td>SHORT</td>\n",
       "      <td>210</td>\n",
       "      <td>2</td>\n",
       "      <td>Transduction Units: -1 = Other; 0 = Unknown; 1...</td>\n",
       "    </tr>\n",
       "    <tr>\n",
       "      <th>Time scal</th>\n",
       "      <td>SHORT</td>\n",
       "      <td>214</td>\n",
       "      <td>2</td>\n",
       "      <td>Scalar to be applied to times specified in Tra...</td>\n",
       "    </tr>\n",
       "    <tr>\n",
       "      <th>Scr type orien</th>\n",
       "      <td>SHORT</td>\n",
       "      <td>216</td>\n",
       "      <td>2</td>\n",
       "      <td>Source Type/Orientation - Defines the type and...</td>\n",
       "    </tr>\n",
       "    <tr>\n",
       "      <th>Src units</th>\n",
       "      <td>SHORT</td>\n",
       "      <td>230</td>\n",
       "      <td>2</td>\n",
       "      <td>Source Measurement Unit: -1 = Other; 0 = Unkno...</td>\n",
       "    </tr>\n",
       "  </tbody>\n",
       "</table>\n",
       "<p>84 rows × 4 columns</p>\n",
       "</div>"
      ],
      "text/plain": [
       "                   Type  Byte position  Byte size  \\\n",
       "Trc seq line        INT              0          4   \n",
       "Trc seq no          INT              4          4   \n",
       "Orig field no       INT              8          4   \n",
       "Tcr no              INT             12          4   \n",
       "Energy src point    INT             16          4   \n",
       "...                 ...            ...        ...   \n",
       "Trans const pow   SHORT            208          2   \n",
       "Trans units       SHORT            210          2   \n",
       "Time scal         SHORT            214          2   \n",
       "Scr type orien    SHORT            216          2   \n",
       "Src units         SHORT            230          2   \n",
       "\n",
       "                                                        Description  \n",
       "Trc seq line      Trace sequence number within line - Numbers co...  \n",
       "Trc seq no        Trace sequence number within SEG-Y file - Each...  \n",
       "Orig field no                          Original field record number  \n",
       "Tcr no                Trace number within the original field record  \n",
       "Energy src point  Energy source point number - Used when more th...  \n",
       "...                                                             ...  \n",
       "Trans const pow                         Transduction Constant power  \n",
       "Trans units       Transduction Units: -1 = Other; 0 = Unknown; 1...  \n",
       "Time scal         Scalar to be applied to times specified in Tra...  \n",
       "Scr type orien    Source Type/Orientation - Defines the type and...  \n",
       "Src units         Source Measurement Unit: -1 = Other; 0 = Unkno...  \n",
       "\n",
       "[84 rows x 4 columns]"
      ]
     },
     "execution_count": 23,
     "metadata": {},
     "output_type": "execute_result"
    }
   ],
   "source": [
    "df_all"
   ]
  },
  {
   "cell_type": "markdown",
   "metadata": {},
   "source": [
    "Таким образом получаем два варианта отображения информации о маппинге - обязательный и полный. Теперь на форме просмотра маппинга можно ввести check box, по которому будет отображаться полный маппинг."
   ]
  },
  {
   "cell_type": "markdown",
   "metadata": {},
   "source": [
    "Так же для просмотра отдельных полей класс __segy_header_map__ содержит метод __get__, который позволяет получить информацию о поле по имени и все поле по индексу:"
   ]
  },
  {
   "cell_type": "code",
   "execution_count": 24,
   "metadata": {},
   "outputs": [
    {
     "data": {
      "text/plain": [
       "(seismic_data_type.INT, 188, 4, True)"
      ]
     },
     "execution_count": 24,
     "metadata": {},
     "output_type": "execute_result"
    }
   ],
   "source": [
    "# По имени\n",
    "hm.get('Inline')"
   ]
  },
  {
   "cell_type": "code",
   "execution_count": 25,
   "metadata": {},
   "outputs": [
    {
     "data": {
      "text/plain": [
       "('Inline', (seismic_data_type.INT, 188, 4, True))"
      ]
     },
     "execution_count": 25,
     "metadata": {},
     "output_type": "execute_result"
    }
   ],
   "source": [
    "# По индексу\n",
    "hm.get(0)"
   ]
  },
  {
   "cell_type": "markdown",
   "metadata": {},
   "source": [
    "Колиечство всех полей можно получить, вызвав метод __segy_header_map.count()__:"
   ]
  },
  {
   "cell_type": "code",
   "execution_count": 26,
   "metadata": {},
   "outputs": [
    {
     "data": {
      "text/plain": [
       "85"
      ]
     },
     "execution_count": 26,
     "metadata": {},
     "output_type": "execute_result"
    }
   ],
   "source": [
    "hm.count()"
   ]
  },
  {
   "cell_type": "markdown",
   "metadata": {},
   "source": [
    "А при попытках доступа к несуществующему полю будет выброшено исключение:"
   ]
  },
  {
   "cell_type": "code",
   "execution_count": 27,
   "metadata": {},
   "outputs": [
    {
     "ename": "ValueError",
     "evalue": "segy_header_map.cpp:222: header map doesn't contains field with name X",
     "output_type": "error",
     "traceback": [
      "\u001b[1;31m---------------------------------------------------------------------------\u001b[0m",
      "\u001b[1;31mValueError\u001b[0m                                Traceback (most recent call last)",
      "\u001b[1;32m<ipython-input-27-ae8a02c80481>\u001b[0m in \u001b[0;36m<module>\u001b[1;34m\u001b[0m\n\u001b[1;32m----> 1\u001b[1;33m \u001b[0mhm\u001b[0m\u001b[1;33m.\u001b[0m\u001b[0mget\u001b[0m\u001b[1;33m(\u001b[0m\u001b[1;34m'X'\u001b[0m\u001b[1;33m)\u001b[0m\u001b[1;33m\u001b[0m\u001b[0m\n\u001b[0m",
      "\u001b[1;31mValueError\u001b[0m: segy_header_map.cpp:222: header map doesn't contains field with name X"
     ]
    }
   ],
   "source": [
    "hm.get('X')"
   ]
  },
  {
   "cell_type": "code",
   "execution_count": 28,
   "metadata": {},
   "outputs": [
    {
     "ename": "ValueError",
     "evalue": "segy_header_map.cpp:230: invalid index",
     "output_type": "error",
     "traceback": [
      "\u001b[1;31m---------------------------------------------------------------------------\u001b[0m",
      "\u001b[1;31mValueError\u001b[0m                                Traceback (most recent call last)",
      "\u001b[1;32m<ipython-input-28-744c906bd750>\u001b[0m in \u001b[0;36m<module>\u001b[1;34m\u001b[0m\n\u001b[1;32m----> 1\u001b[1;33m \u001b[0mhm\u001b[0m\u001b[1;33m.\u001b[0m\u001b[0mget\u001b[0m\u001b[1;33m(\u001b[0m\u001b[0mhm\u001b[0m\u001b[1;33m.\u001b[0m\u001b[0mcount\u001b[0m\u001b[1;33m(\u001b[0m\u001b[1;33m)\u001b[0m \u001b[1;33m+\u001b[0m \u001b[1;36m1\u001b[0m\u001b[1;33m)\u001b[0m\u001b[1;33m\u001b[0m\u001b[0m\n\u001b[0m",
      "\u001b[1;31mValueError\u001b[0m: segy_header_map.cpp:230: invalid index"
     ]
    }
   ],
   "source": [
    "hm.get(hm.count() + 1)"
   ]
  },
  {
   "cell_type": "markdown",
   "metadata": {},
   "source": [
    "### 4.3 Редактирование маппинга"
   ]
  },
  {
   "cell_type": "markdown",
   "metadata": {},
   "source": [
    "Для редактирования маппинга класс __segy_header_map__ предоставляет метод __set__ с различными перегрузками."
   ]
  },
  {
   "cell_type": "code",
   "execution_count": 29,
   "metadata": {},
   "outputs": [
    {
     "name": "stdout",
     "output_type": "stream",
     "text": [
      "Help on instancemethod in module seismo_reader:\n",
      "\n",
      "set(...)\n",
      "    set(*args, **kwargs)\n",
      "    Overloaded function.\n",
      "    \n",
      "    1. set(self: seismo_reader.header_map, field_name: str, byte_location: int, byte_size: int, data_type: seismic_data_type) -> None\n",
      "    \n",
      "    Add/set field in trace header map\n",
      "    \n",
      "    2. set(self: seismo_reader.header_map, field_name: str, byte_location: int, byte_size: int, data_type: seismic_data_type, description: str = '') -> None\n",
      "    \n",
      "    Add/set field in trace header map\n",
      "    \n",
      "    3. set(self: seismo_reader.header_map, field_name: str, tuple kind of { data_type, byte_loc, byte_size}: Tuple[seismic_data_type, int, int, bool]) -> None\n",
      "    \n",
      "    Add/set field in trace header map\n",
      "    \n",
      "    4. set(self: seismo_reader.header_map, field_name: str, tuple kind of { data_type, byte_loc, byte_size}: Tuple[seismic_data_type, int, int, bool], description: str = '') -> None\n",
      "    \n",
      "    Add/set field in trace header map\n",
      "\n"
     ]
    }
   ],
   "source": [
    "help(sr.segy_header_map.set)"
   ]
  },
  {
   "cell_type": "markdown",
   "metadata": {},
   "source": [
    "Создадим пустой маппинг."
   ]
  },
  {
   "cell_type": "code",
   "execution_count": 37,
   "metadata": {},
   "outputs": [],
   "source": [
    "hm = sr.segy_header_map(sr.header_map_type.CUSTOM)"
   ]
  },
  {
   "cell_type": "markdown",
   "metadata": {},
   "source": [
    "Изменим позицию и тип данных для поля CDP, используя все доступные перегрузки."
   ]
  },
  {
   "cell_type": "code",
   "execution_count": 38,
   "metadata": {},
   "outputs": [
    {
     "data": {
      "text/plain": [
       "(seismic_data_type.INT, 20, 4, True)"
      ]
     },
     "execution_count": 38,
     "metadata": {},
     "output_type": "execute_result"
    }
   ],
   "source": [
    "hm.get('CDP')"
   ]
  },
  {
   "cell_type": "code",
   "execution_count": 39,
   "metadata": {},
   "outputs": [
    {
     "data": {
      "text/plain": [
       "(seismic_data_type.USHORT, 66, 2, True)"
      ]
     },
     "execution_count": 39,
     "metadata": {},
     "output_type": "execute_result"
    }
   ],
   "source": [
    "hm.set('CDP', 66, 2, sr.seismic_data_type.USHORT)\n",
    "hm.get('CDP')"
   ]
  },
  {
   "cell_type": "code",
   "execution_count": 40,
   "metadata": {},
   "outputs": [
    {
     "data": {
      "text/plain": [
       "(seismic_data_type.INT, 62, 4, True)"
      ]
     },
     "execution_count": 40,
     "metadata": {},
     "output_type": "execute_result"
    }
   ],
   "source": [
    "hm.set('CDP', 62, 4, sr.seismic_data_type.INT, '')\n",
    "hm.get('CDP')"
   ]
  },
  {
   "cell_type": "code",
   "execution_count": 41,
   "metadata": {},
   "outputs": [
    {
     "data": {
      "text/plain": [
       "(seismic_data_type.USHORT, 66, 2, True)"
      ]
     },
     "execution_count": 41,
     "metadata": {},
     "output_type": "execute_result"
    }
   ],
   "source": [
    "hm.set('CDP', (sr.seismic_data_type.USHORT, 66, 2, False))\n",
    "hm.get('CDP')"
   ]
  },
  {
   "cell_type": "code",
   "execution_count": 42,
   "metadata": {},
   "outputs": [
    {
     "data": {
      "text/plain": [
       "(seismic_data_type.USHORT, 66, 2, True)"
      ]
     },
     "execution_count": 42,
     "metadata": {},
     "output_type": "execute_result"
    }
   ],
   "source": [
    "hm.set('CDP', (sr.seismic_data_type.USHORT, 66, 2, False), '')\n",
    "hm.get('CDP')"
   ]
  },
  {
   "cell_type": "markdown",
   "metadata": {},
   "source": [
    "Заметим, что при использовании перегрузки __set(self, field_name, Tuple[seismic_data_type, int, int, bool])__ установка обязательного флага не имеет никакого влияния на результат. Поле __CDP__ как было обязательным, так и осталось. Поэтому не имеет значение, какой флаг выставлен, библиотека сама определяет обязательные и необязательные поля."
   ]
  },
  {
   "cell_type": "markdown",
   "metadata": {},
   "source": [
    "Так же стоит обратить внимание на перегрузки, принимающие параметр __description__. Если передана пустая строка, то описание не будет установлено. Если строка не пустая, то описание будет изменено. Это демонстрирует следующий пример."
   ]
  },
  {
   "cell_type": "code",
   "execution_count": 47,
   "metadata": {},
   "outputs": [
    {
     "data": {
      "text/plain": [
       "'AAABBBCCCDDDEEEFFFGGGHHH'"
      ]
     },
     "execution_count": 47,
     "metadata": {},
     "output_type": "execute_result"
    }
   ],
   "source": [
    "# Пустое описание\n",
    "hm.set('CDP', 62, 4, sr.seismic_data_type.INT, '')\n",
    "hm.get('CDP')\n",
    "\n",
    "hm.description()['CDP']"
   ]
  },
  {
   "cell_type": "code",
   "execution_count": 48,
   "metadata": {},
   "outputs": [
    {
     "data": {
      "text/plain": [
       "'AAABBBCCCDDDEEEFFFGGGHHH'"
      ]
     },
     "execution_count": 48,
     "metadata": {},
     "output_type": "execute_result"
    }
   ],
   "source": [
    "# Непустое описание\n",
    "hm.set('CDP', 62, 4, sr.seismic_data_type.INT, 'AAABBBCCCDDDEEEFFFGGGHHH')\n",
    "hm.get('CDP')\n",
    "\n",
    "hm.description()['CDP']"
   ]
  },
  {
   "cell_type": "markdown",
   "metadata": {},
   "source": [
    "При помощи метода __set__ можно добавить новое поле:"
   ]
  },
  {
   "cell_type": "code",
   "execution_count": 49,
   "metadata": {},
   "outputs": [],
   "source": [
    "hm.set('PRIVET', 14, 2, sr.seismic_data_type.SHORT, '')"
   ]
  },
  {
   "cell_type": "code",
   "execution_count": 50,
   "metadata": {},
   "outputs": [
    {
     "data": {
      "text/plain": [
       "{'CDP': (seismic_data_type.INT, 62, 4, True),\n",
       " 'CDP X': (seismic_data_type.INT, 180, 4, True),\n",
       " 'CDP Y': (seismic_data_type.INT, 184, 4, True),\n",
       " 'Crossline': (seismic_data_type.INT, 192, 4, True),\n",
       " 'Inline': (seismic_data_type.INT, 188, 4, True),\n",
       " 'PRIVET': (seismic_data_type.SHORT, 14, 2, False),\n",
       " 'Sample interval': (seismic_data_type.SHORT, 116, 2, True),\n",
       " 'Samples count': (seismic_data_type.SHORT, 114, 2, True),\n",
       " 'Scalar coords': (seismic_data_type.SHORT, 70, 2, True),\n",
       " 'Src X': (seismic_data_type.INT, 72, 4, True),\n",
       " 'Src Y': (seismic_data_type.INT, 76, 4, True),\n",
       " 'Trace units': (seismic_data_type.SHORT, 202, 2, True)}"
      ]
     },
     "execution_count": 50,
     "metadata": {},
     "output_type": "execute_result"
    }
   ],
   "source": [
    "hm.to_dict()"
   ]
  },
  {
   "cell_type": "markdown",
   "metadata": {},
   "source": [
    "Как видно, поле PRIVET появилось в маппинге. Оно является необязательным. Удалить поле можно при помощи метода __remove__:"
   ]
  },
  {
   "cell_type": "code",
   "execution_count": 51,
   "metadata": {},
   "outputs": [],
   "source": [
    "hm.remove('PRIVET')"
   ]
  },
  {
   "cell_type": "code",
   "execution_count": 52,
   "metadata": {},
   "outputs": [
    {
     "data": {
      "text/plain": [
       "{'CDP': (seismic_data_type.INT, 62, 4, True),\n",
       " 'CDP X': (seismic_data_type.INT, 180, 4, True),\n",
       " 'CDP Y': (seismic_data_type.INT, 184, 4, True),\n",
       " 'Crossline': (seismic_data_type.INT, 192, 4, True),\n",
       " 'Inline': (seismic_data_type.INT, 188, 4, True),\n",
       " 'Sample interval': (seismic_data_type.SHORT, 116, 2, True),\n",
       " 'Samples count': (seismic_data_type.SHORT, 114, 2, True),\n",
       " 'Scalar coords': (seismic_data_type.SHORT, 70, 2, True),\n",
       " 'Src X': (seismic_data_type.INT, 72, 4, True),\n",
       " 'Src Y': (seismic_data_type.INT, 76, 4, True),\n",
       " 'Trace units': (seismic_data_type.SHORT, 202, 2, True)}"
      ]
     },
     "execution_count": 52,
     "metadata": {},
     "output_type": "execute_result"
    }
   ],
   "source": [
    "hm.to_dict()"
   ]
  },
  {
   "cell_type": "markdown",
   "metadata": {},
   "source": [
    "Добавим еще несколько полей и очистим маппинг."
   ]
  },
  {
   "cell_type": "code",
   "execution_count": 53,
   "metadata": {},
   "outputs": [],
   "source": [
    "hm.set('A', 14, 2, sr.seismic_data_type.SHORT, '')\n",
    "hm.set('B', 16, 2, sr.seismic_data_type.SHORT, '')\n",
    "hm.set('C', 18, 2, sr.seismic_data_type.SHORT, '')\n",
    "hm.set('D', 20, 2, sr.seismic_data_type.SHORT, '')\n",
    "hm.set('F', 22, 2, sr.seismic_data_type.SHORT, '')\n",
    "hm.set('G', 24, 2, sr.seismic_data_type.SHORT, '')"
   ]
  },
  {
   "cell_type": "code",
   "execution_count": 54,
   "metadata": {},
   "outputs": [
    {
     "data": {
      "text/plain": [
       "{'A': (seismic_data_type.SHORT, 14, 2, False),\n",
       " 'B': (seismic_data_type.SHORT, 16, 2, False),\n",
       " 'C': (seismic_data_type.SHORT, 18, 2, False),\n",
       " 'CDP': (seismic_data_type.INT, 62, 4, True),\n",
       " 'CDP X': (seismic_data_type.INT, 180, 4, True),\n",
       " 'CDP Y': (seismic_data_type.INT, 184, 4, True),\n",
       " 'Crossline': (seismic_data_type.INT, 192, 4, True),\n",
       " 'D': (seismic_data_type.SHORT, 20, 2, False),\n",
       " 'F': (seismic_data_type.SHORT, 22, 2, False),\n",
       " 'G': (seismic_data_type.SHORT, 24, 2, False),\n",
       " 'Inline': (seismic_data_type.INT, 188, 4, True),\n",
       " 'Sample interval': (seismic_data_type.SHORT, 116, 2, True),\n",
       " 'Samples count': (seismic_data_type.SHORT, 114, 2, True),\n",
       " 'Scalar coords': (seismic_data_type.SHORT, 70, 2, True),\n",
       " 'Src X': (seismic_data_type.INT, 72, 4, True),\n",
       " 'Src Y': (seismic_data_type.INT, 76, 4, True),\n",
       " 'Trace units': (seismic_data_type.SHORT, 202, 2, True)}"
      ]
     },
     "execution_count": 54,
     "metadata": {},
     "output_type": "execute_result"
    }
   ],
   "source": [
    "hm.to_dict()"
   ]
  },
  {
   "cell_type": "code",
   "execution_count": 55,
   "metadata": {},
   "outputs": [],
   "source": [
    "hm.clear()"
   ]
  },
  {
   "cell_type": "code",
   "execution_count": 56,
   "metadata": {},
   "outputs": [
    {
     "data": {
      "text/plain": [
       "{'CDP': (seismic_data_type.INT, 20, 4, True),\n",
       " 'CDP X': (seismic_data_type.INT, 180, 4, True),\n",
       " 'CDP Y': (seismic_data_type.INT, 184, 4, True),\n",
       " 'Crossline': (seismic_data_type.INT, 192, 4, True),\n",
       " 'Inline': (seismic_data_type.INT, 188, 4, True),\n",
       " 'Sample interval': (seismic_data_type.SHORT, 116, 2, True),\n",
       " 'Samples count': (seismic_data_type.SHORT, 114, 2, True),\n",
       " 'Scalar coords': (seismic_data_type.SHORT, 70, 2, True),\n",
       " 'Src X': (seismic_data_type.INT, 72, 4, True),\n",
       " 'Src Y': (seismic_data_type.INT, 76, 4, True),\n",
       " 'Trace units': (seismic_data_type.SHORT, 202, 2, True)}"
      ]
     },
     "execution_count": 56,
     "metadata": {},
     "output_type": "execute_result"
    }
   ],
   "source": [
    "hm.to_dict()"
   ]
  },
  {
   "cell_type": "markdown",
   "metadata": {},
   "source": [
    "Как видим, все добавленные поля были удалены методом __clear__, в маппинге остались лишь обязательные поля."
   ]
  },
  {
   "cell_type": "markdown",
   "metadata": {},
   "source": [
    "При попытки удаления обязательного поля будет выброшено исключение:"
   ]
  },
  {
   "cell_type": "code",
   "execution_count": 57,
   "metadata": {},
   "outputs": [
    {
     "ename": "ValueError",
     "evalue": "segy_header_map.cpp:194: can't remove required header map field",
     "output_type": "error",
     "traceback": [
      "\u001b[1;31m---------------------------------------------------------------------------\u001b[0m",
      "\u001b[1;31mValueError\u001b[0m                                Traceback (most recent call last)",
      "\u001b[1;32m<ipython-input-57-da7dc6fec296>\u001b[0m in \u001b[0;36m<module>\u001b[1;34m\u001b[0m\n\u001b[1;32m----> 1\u001b[1;33m \u001b[0mhm\u001b[0m\u001b[1;33m.\u001b[0m\u001b[0mremove\u001b[0m\u001b[1;33m(\u001b[0m\u001b[1;34m'CDP'\u001b[0m\u001b[1;33m)\u001b[0m\u001b[1;33m\u001b[0m\u001b[0m\n\u001b[0m",
      "\u001b[1;31mValueError\u001b[0m: segy_header_map.cpp:194: can't remove required header map field"
     ]
    }
   ],
   "source": [
    "hm.remove('CDP')"
   ]
  },
  {
   "cell_type": "markdown",
   "metadata": {},
   "source": [
    "Создадим стандартный маппинг и редактируем его поле."
   ]
  },
  {
   "cell_type": "code",
   "execution_count": 58,
   "metadata": {},
   "outputs": [],
   "source": [
    "hm = sr.segy_header_map()"
   ]
  },
  {
   "cell_type": "code",
   "execution_count": 59,
   "metadata": {},
   "outputs": [
    {
     "data": {
      "text/plain": [
       "header_map_type.STANDARD"
      ]
     },
     "execution_count": 59,
     "metadata": {},
     "output_type": "execute_result"
    }
   ],
   "source": [
    "hm.type()"
   ]
  },
  {
   "cell_type": "code",
   "execution_count": 60,
   "metadata": {},
   "outputs": [],
   "source": [
    "hm.set('CDP', 62, 4, sr.seismic_data_type.INT, 'AAABBBCCCDDDEEEFFFGGGHHH')"
   ]
  },
  {
   "cell_type": "code",
   "execution_count": 61,
   "metadata": {},
   "outputs": [
    {
     "data": {
      "text/plain": [
       "header_map_type.CUSTOM"
      ]
     },
     "execution_count": 61,
     "metadata": {},
     "output_type": "execute_result"
    }
   ],
   "source": [
    "hm.type()"
   ]
  },
  {
   "cell_type": "markdown",
   "metadata": {},
   "source": [
    "Как видим, при изменении какого-либо поля тип маппинга меняется с шаблонного на CUSTOM."
   ]
  },
  {
   "cell_type": "code",
   "execution_count": null,
   "metadata": {},
   "outputs": [],
   "source": []
  }
 ],
 "metadata": {
  "kernelspec": {
   "display_name": "Python 3",
   "language": "python",
   "name": "python3"
  },
  "language_info": {
   "codemirror_mode": {
    "name": "ipython",
    "version": 3
   },
   "file_extension": ".py",
   "mimetype": "text/x-python",
   "name": "python",
   "nbconvert_exporter": "python",
   "pygments_lexer": "ipython3",
   "version": "3.6.3"
  }
 },
 "nbformat": 4,
 "nbformat_minor": 2
}
