{
 "cells": [
  {
   "cell_type": "markdown",
   "metadata": {},
   "source": [
    "## 2. Segy text header"
   ]
  },
  {
   "cell_type": "markdown",
   "metadata": {},
   "source": [
    "Textual Header - заголовок размера 3200 байт, в котором содержится текстовое описание SEG-Y файла. См. SEG Technical Standards Committee SEG-Y revision 2.0 Data Exchange format (https://seg.org/Portals/0/SEG/News%20and%20Resources/Technical%20Standards/seg_y_rev2_0-mar2017.pdf)\n",
    "\n",
    "Рассмотрим функционал библиотеки для работы с текстовым заголовком."
   ]
  },
  {
   "cell_type": "code",
   "execution_count": 56,
   "metadata": {},
   "outputs": [],
   "source": [
    "import numpy as np\n",
    "import pandas as pd\n",
    "import matplotlib.pyplot as plt\n",
    "from timeit import default_timer as timer"
   ]
  },
  {
   "cell_type": "code",
   "execution_count": 2,
   "metadata": {},
   "outputs": [],
   "source": [
    "import seismo_reader as sr"
   ]
  },
  {
   "cell_type": "markdown",
   "metadata": {},
   "source": [
    "### 2.1 Описание класса"
   ]
  },
  {
   "cell_type": "markdown",
   "metadata": {},
   "source": [
    "Текстовый заголовок представлен классом sr.segy_text_header. Описание методов класса можно получить по команде help:"
   ]
  },
  {
   "cell_type": "code",
   "execution_count": 3,
   "metadata": {},
   "outputs": [
    {
     "name": "stdout",
     "output_type": "stream",
     "text": [
      "Help on class segy_text_header in module seismo_reader:\n",
      "\n",
      "class segy_text_header(abstract_header)\n",
      " |  Method resolution order:\n",
      " |      segy_text_header\n",
      " |      abstract_header\n",
      " |      pybind11_builtins.pybind11_object\n",
      " |      builtins.object\n",
      " |  \n",
      " |  Methods defined here:\n",
      " |  \n",
      " |  __init__(...)\n",
      " |      __init__(*args, **kwargs)\n",
      " |      Overloaded function.\n",
      " |      \n",
      " |      1. __init__(self: seismo_reader.segy_text_header) -> None\n",
      " |      \n",
      " |      2. __init__(self: seismo_reader.segy_text_header, arg0: List[int], arg1: bool) -> None\n",
      " |  \n",
      " |  raw_data(...)\n",
      " |      raw_data(self: seismo_reader.segy_text_header) -> List[int]\n",
      " |  \n",
      " |  set_object_name(...)\n",
      " |      set_object_name(self: seismo_reader.segy_text_header, arg0: str) -> None\n",
      " |  \n",
      " |  set_product_name(...)\n",
      " |      set_product_name(self: seismo_reader.segy_text_header, arg0: str) -> None\n",
      " |  \n",
      " |  set_seismic_type(...)\n",
      " |      set_seismic_type(self: seismo_reader.segy_text_header, arg0: str) -> None\n",
      " |  \n",
      " |  ----------------------------------------------------------------------\n",
      " |  Methods inherited from abstract_header:\n",
      " |  \n",
      " |  description(...)\n",
      " |      description(self: seismo_reader.abstract_header) -> Dict[str, Dict[str, str]]\n",
      " |      \n",
      " |      Get description for header fields\n",
      " |  \n",
      " |  from_dict(...)\n",
      " |      from_dict(self: seismo_reader.abstract_header, arg0: Dict[str, Union[int, int, int, int, int, int, int, float, float, str, str]]) -> None\n",
      " |      \n",
      " |      Set header from dict kind of { field name : value }\n",
      " |  \n",
      " |  get(...)\n",
      " |      get(self: seismo_reader.abstract_header, field_name: str) -> Union[int, int, int, int, int, int, int, float, float, str, str]\n",
      " |      \n",
      " |      Returns pair (field name, value) by name\n",
      " |  \n",
      " |  set(...)\n",
      " |      set(self: seismo_reader.abstract_header, field_name: str, value: Union[int, int, int, int, int, int, int, float, float, str, str]) -> None\n",
      " |      \n",
      " |      Set value for field\n",
      " |  \n",
      " |  to_dict(...)\n",
      " |      to_dict(self: seismo_reader.abstract_header) -> Dict[str, Union[int, int, int, int, int, int, int, float, float, str, str]]\n",
      " |      \n",
      " |      Returns dict kind of { field name : value }\n",
      " |  \n",
      " |  ----------------------------------------------------------------------\n",
      " |  Methods inherited from pybind11_builtins.pybind11_object:\n",
      " |  \n",
      " |  __new__(*args, **kwargs) from pybind11_builtins.pybind11_type\n",
      " |      Create and return a new object.  See help(type) for accurate signature.\n",
      "\n"
     ]
    }
   ],
   "source": [
    "help(sr.segy_text_header)"
   ]
  },
  {
   "cell_type": "markdown",
   "metadata": {},
   "source": [
    "Так как общепринятый вормат текстового заголовка - это 40 строк по 80 символов, а каждая строка начинается с 'CN', где N - номер строки, класс реализован в виде хранилища ключ-значение, где ключами являются строки вида 'CN', а значениями - остальные символы строк.\n",
    "\n",
    "Класс поддерживает преобразование в/из __dict__.\n",
    "\n",
    "Дополнительно представлены функции __get/set__, позволяющие манипулировать отдельными полями\n",
    "\n",
    "Доступен как пустой конструктор, так и конструктор из словаря. Есть возможность получить \"сырые\" 3200 байт как в формате EBDIC, так и в ASCII."
   ]
  },
  {
   "cell_type": "markdown",
   "metadata": {},
   "source": [
    "### 2.2 Чтение и просмотр текстового заголовка из SEG-Y файла"
   ]
  },
  {
   "cell_type": "markdown",
   "metadata": {},
   "source": [
    "Рассмотрим пример чтения бинарного заголовка из SEG-Y файла, опробуем функционал класса."
   ]
  },
  {
   "cell_type": "code",
   "execution_count": 9,
   "metadata": {},
   "outputs": [],
   "source": [
    "config = sr.reader_config()\n",
    "config.filename = '2D.segy'\n",
    "reader = sr.segy_reader(config)"
   ]
  },
  {
   "cell_type": "markdown",
   "metadata": {},
   "source": [
    "Получить текстовый заголовок из открытого SEG-Y файла можно методом segy_reader.text_header()."
   ]
  },
  {
   "cell_type": "code",
   "execution_count": 12,
   "metadata": {},
   "outputs": [],
   "source": [
    "th = reader.text_header()"
   ]
  },
  {
   "cell_type": "markdown",
   "metadata": {},
   "source": [
    "Преобразуем бинарный заголовок в словарь и посмотрим на его содержимое."
   ]
  },
  {
   "cell_type": "code",
   "execution_count": 13,
   "metadata": {},
   "outputs": [
    {
     "data": {
      "text/plain": [
       "{'C 1': 'SEGY OUTPUT FROM Petrel 2013.1 (64-bit) Tuesday, November 26 2013 09:30:10  ',\n",
       " 'C 2': 'Name: 30389-07_0  PhaseShift@ Type: 2D seismic                              ',\n",
       " 'C 3': '                                                                            ',\n",
       " 'C 4': 'First CDP: 0.000000 Last CDP: 326.000000                                    ',\n",
       " 'C 5': 'First SP:  0.000000 Last SP:  0.000000                                      ',\n",
       " 'C 6': 'CRS: <undef>                                                                ',\n",
       " 'C 7': 'X min: 123207.00 max: 132229.00 delta: 9022.00                              ',\n",
       " 'C 8': 'Y min: 1119097.00 max: 1132618.00 delta: 13521.00                           ',\n",
       " 'C 9': 'Time min: -3556.00 max: 46.00 delta: 3602.00                                ',\n",
       " 'C10': 'Lat min: - max: - delta: -                                                  ',\n",
       " 'C11': 'Long min: - max: - delta: -                                                 ',\n",
       " 'C12': 'Trace min: -3555.00 max: 45.00 delta: 3600.00                               ',\n",
       " 'C13': 'Red-blue (template) min: ~-11.64 max: ~11.64 delta: ~23.28                  ',\n",
       " 'C14': 'Amplitude (data) min: ~-11.64 max: ~11.64 delta: ~23.28                     ',\n",
       " 'C15': 'Trace sample format: 8-bit (non-standard)                                   ',\n",
       " 'C16': 'Coordinate scale factor: 1.00000                                            ',\n",
       " 'C17': '                                                                            ',\n",
       " 'C18': 'Binary header locations:                                                    ',\n",
       " 'C19': 'Sample interval             : bytes 17-18                                   ',\n",
       " 'C20': 'Number of samples per trace : bytes 21-22                                   ',\n",
       " 'C21': 'Trace date format           : bytes 25-26                                   ',\n",
       " 'C22': '                                                                            ',\n",
       " 'C23': 'Trace header locations:                                                     ',\n",
       " 'C24': 'Inline number               : bytes 5-8                                     ',\n",
       " 'C25': 'SP Number                   : bytes 17-20                                   ',\n",
       " 'C26': 'CDP number                  : bytes 21-24                                   ',\n",
       " 'C27': 'Coordinate scale factor     : bytes 71-72                                   ',\n",
       " 'C28': 'X coordinate                : bytes 73-76                                   ',\n",
       " 'C29': 'Y coordinate                : bytes 77-80                                   ',\n",
       " 'C30': 'Trace start time/depth      : bytes 109-110                                 ',\n",
       " 'C31': 'Number of samples per trace : bytes 115-116                                 ',\n",
       " 'C32': 'Sample interval             : bytes 117-118                                 ',\n",
       " 'C33': '                                                                            ',\n",
       " 'C34': '                                                                            ',\n",
       " 'C35': '                                                                            ',\n",
       " 'C36': '                                                                            ',\n",
       " 'C37': '                                                                            ',\n",
       " 'C38': '                                                                            ',\n",
       " 'C39': '                                                                            ',\n",
       " 'C40': 'END EBCDIC                                                                  '}"
      ]
     },
     "execution_count": 13,
     "metadata": {},
     "output_type": "execute_result"
    }
   ],
   "source": [
    "th.to_dict()"
   ]
  },
  {
   "cell_type": "markdown",
   "metadata": {},
   "source": [
    "Значение по полю можно получить не только из словаря, но и методом get:"
   ]
  },
  {
   "cell_type": "code",
   "execution_count": 15,
   "metadata": {},
   "outputs": [
    {
     "data": {
      "text/plain": [
       "'Sample interval             : bytes 17-18                                   '"
      ]
     },
     "execution_count": 15,
     "metadata": {},
     "output_type": "execute_result"
    }
   ],
   "source": [
    "th.get('C19')"
   ]
  },
  {
   "cell_type": "markdown",
   "metadata": {},
   "source": [
    "Отдельно стоит рассмотреть поля 'C 1' - 'C 9', в которых номер отделен от буквы C. Допускается получение таких полей как по ключам 'C 1'...'C 9', так и по ключам 'C1'...'C9':"
   ]
  },
  {
   "cell_type": "code",
   "execution_count": 16,
   "metadata": {},
   "outputs": [
    {
     "data": {
      "text/plain": [
       "'SEGY OUTPUT FROM Petrel 2013.1 (64-bit) Tuesday, November 26 2013 09:30:10  '"
      ]
     },
     "execution_count": 16,
     "metadata": {},
     "output_type": "execute_result"
    }
   ],
   "source": [
    "th.get('C 1')"
   ]
  },
  {
   "cell_type": "code",
   "execution_count": 17,
   "metadata": {},
   "outputs": [
    {
     "data": {
      "text/plain": [
       "'SEGY OUTPUT FROM Petrel 2013.1 (64-bit) Tuesday, November 26 2013 09:30:10  '"
      ]
     },
     "execution_count": 17,
     "metadata": {},
     "output_type": "execute_result"
    }
   ],
   "source": [
    "th.get('C1')"
   ]
  },
  {
   "cell_type": "markdown",
   "metadata": {},
   "source": [
    "Обработка ошибок класса segy_text_header осуществляется посредством исключений.\n",
    "\n",
    "Попытаемся получить несуществующую строку текстового заголовка."
   ]
  },
  {
   "cell_type": "code",
   "execution_count": 18,
   "metadata": {},
   "outputs": [
    {
     "ename": "ValueError",
     "evalue": "segy_text_header.cpp:65: invalid field name",
     "output_type": "error",
     "traceback": [
      "\u001b[1;31m---------------------------------------------------------------------------\u001b[0m",
      "\u001b[1;31mValueError\u001b[0m                                Traceback (most recent call last)",
      "\u001b[1;32m<ipython-input-18-aa2cb8f73bc0>\u001b[0m in \u001b[0;36m<module>\u001b[1;34m\u001b[0m\n\u001b[1;32m----> 1\u001b[1;33m \u001b[0mth\u001b[0m\u001b[1;33m.\u001b[0m\u001b[0mget\u001b[0m\u001b[1;33m(\u001b[0m\u001b[1;34m'C41'\u001b[0m\u001b[1;33m)\u001b[0m\u001b[1;33m\u001b[0m\u001b[0m\n\u001b[0m",
      "\u001b[1;31mValueError\u001b[0m: segy_text_header.cpp:65: invalid field name"
     ]
    }
   ],
   "source": [
    "th.get('C41')"
   ]
  },
  {
   "cell_type": "markdown",
   "metadata": {},
   "source": [
    "Получаем исключение __ValueError__ с описанием _invalid field name_."
   ]
  },
  {
   "cell_type": "markdown",
   "metadata": {},
   "source": [
    "Так же можно посмотреть (или манипулировать) с \"сырым\" заголовком через метод __raw_data__:"
   ]
  },
  {
   "cell_type": "code",
   "execution_count": 25,
   "metadata": {},
   "outputs": [],
   "source": [
    "a = np.array(th.raw_data(), dtype=np.int8)"
   ]
  },
  {
   "cell_type": "markdown",
   "metadata": {},
   "source": [
    "Размер такого массива, как и ожидалось, 3200 байт:"
   ]
  },
  {
   "cell_type": "code",
   "execution_count": 26,
   "metadata": {},
   "outputs": [
    {
     "data": {
      "text/plain": [
       "(3200,)"
      ]
     },
     "execution_count": 26,
     "metadata": {},
     "output_type": "execute_result"
    }
   ],
   "source": [
    "a.shape"
   ]
  },
  {
   "cell_type": "markdown",
   "metadata": {},
   "source": [
    "### 2.3 Создание и редактирование бинарного заголовка"
   ]
  },
  {
   "cell_type": "markdown",
   "metadata": {},
   "source": [
    "Для изменения содержимого текстового заголовка предоставляются методы __set/from_dict__ и конструктор __init__(self, dict).\n",
    "\n",
    "В качестве ключа в метод __set__ подается строка вида __'C N'__, в качестве значения подается строка из не более чем 76 символов. Аналогично для редактирования текстового заголовка через словарь.\n",
    "\n",
    "Изменять текстовый заголовок, сопряженный со своим файлом, запрещено. Действительно, попробовав изменить полученный из файла заголовок, получаем исключение (object is read only):"
   ]
  },
  {
   "cell_type": "code",
   "execution_count": 29,
   "metadata": {},
   "outputs": [
    {
     "ename": "RuntimeError",
     "evalue": "segy_text_header.cpp:74: object is read only",
     "output_type": "error",
     "traceback": [
      "\u001b[1;31m---------------------------------------------------------------------------\u001b[0m",
      "\u001b[1;31mRuntimeError\u001b[0m                              Traceback (most recent call last)",
      "\u001b[1;32m<ipython-input-29-56e12d83d3ea>\u001b[0m in \u001b[0;36m<module>\u001b[1;34m\u001b[0m\n\u001b[1;32m----> 1\u001b[1;33m \u001b[0mth\u001b[0m\u001b[1;33m.\u001b[0m\u001b[0mfrom_dict\u001b[0m\u001b[1;33m(\u001b[0m\u001b[1;33m{\u001b[0m \u001b[1;34m'C 1'\u001b[0m\u001b[1;33m:\u001b[0m \u001b[1;34m'ABCD'\u001b[0m \u001b[1;33m}\u001b[0m\u001b[1;33m)\u001b[0m\u001b[1;33m\u001b[0m\u001b[0m\n\u001b[0m",
      "\u001b[1;31mRuntimeError\u001b[0m: segy_text_header.cpp:74: object is read only"
     ]
    }
   ],
   "source": [
    "th.from_dict({ 'C 1': 'ABCD' })"
   ]
  },
  {
   "cell_type": "code",
   "execution_count": 30,
   "metadata": {},
   "outputs": [
    {
     "ename": "RuntimeError",
     "evalue": "segy_text_header.cpp:74: object is read only",
     "output_type": "error",
     "traceback": [
      "\u001b[1;31m---------------------------------------------------------------------------\u001b[0m",
      "\u001b[1;31mRuntimeError\u001b[0m                              Traceback (most recent call last)",
      "\u001b[1;32m<ipython-input-30-6ea42e55af0a>\u001b[0m in \u001b[0;36m<module>\u001b[1;34m\u001b[0m\n\u001b[1;32m----> 1\u001b[1;33m \u001b[0mth\u001b[0m\u001b[1;33m.\u001b[0m\u001b[0mset\u001b[0m\u001b[1;33m(\u001b[0m\u001b[1;34m'C 1'\u001b[0m\u001b[1;33m,\u001b[0m \u001b[1;34m'ABCD'\u001b[0m\u001b[1;33m)\u001b[0m\u001b[1;33m\u001b[0m\u001b[0m\n\u001b[0m",
      "\u001b[1;31mRuntimeError\u001b[0m: segy_text_header.cpp:74: object is read only"
     ]
    }
   ],
   "source": [
    "th.set('C 1', 'ABCD')"
   ]
  },
  {
   "cell_type": "markdown",
   "metadata": {},
   "source": [
    "Создадим пустой текстовый заголовок."
   ]
  },
  {
   "cell_type": "code",
   "execution_count": 44,
   "metadata": {},
   "outputs": [],
   "source": [
    "th_new = sr.segy_text_header()"
   ]
  },
  {
   "cell_type": "markdown",
   "metadata": {},
   "source": [
    "Выведем его поля в виде словаря."
   ]
  },
  {
   "cell_type": "code",
   "execution_count": 45,
   "metadata": {},
   "outputs": [
    {
     "name": "stdout",
     "output_type": "stream",
     "text": [
      "C 1: SEG-Y OUTPUT FROM %ProductName, %DateTime\n",
      "C 2: NAME: %name\tType: %type\n",
      "C 3: \n",
      "C 4: Additional text headers count:\t%add_text_headers_count\n",
      "C 5: \n",
      "C 6: AREA INFO\n",
      "C 7: First CDP:\t%first_cdp,\tLast CDP:\t%last_cdp\n",
      "C 8: X min:\t\t%x_min,\tX max:\t\t%x_max,\tDelta:\t%x_delta\n",
      "C 9: Y min:\t\t%y_min,\tY max:\t\t%y_max,\tDelta:\t%y_delta\n",
      "C10: Time min:\t%time_min,\tTime max:\t%time_max,\tDelta:\t%time_delta\n",
      "C11: Lat min:\t%lat_min,\tLat max:\t%lat_max,\tDelta:\t%lat_delta\n",
      "C12: Long min:\t%long_min,\tLong max:\t%long_max,\tDelta:\t%long_delta\n",
      "C13: Trace min:\t%trace_min,\tTrace max:\t%trace_max,\tDelta:\t%trace_delta\n",
      "C14: \n",
      "C15: BINARY HEADER INFO\n",
      "C16: Location:\t\t\t\t\t\t%bin_header_loc\n",
      "C17: Sample interval:\t\t\t\t%bin_header_sample_interval_loc\n",
      "C18: Number of samples per trace:\t%bin_header_samples_count_loc\n",
      "C19: Trace data format:\t\t\t\t%bin_header_data_format_loc\n",
      "C20: \n",
      "C21: TRACE HEADER INFO\n",
      "C22: Location:\t\t\t\t\t\t%trace_header_loc\n",
      "C23: Inline number:\t\t\t\t\t%trace_header_iline_loc\n",
      "C24: Crossline number:\t\t\t\t%trace_header_crossline_loc\n",
      "C25: CDP X:\t\t\t\t\t\t\t%trace_header_cdpx_loc\n",
      "C26: CDP Y:\t\t\t\t\t\t\t%trace_header_cdpy_loc\n",
      "C27: Source coordinate X:\t\t\t%trace_header_srcx_loc\n",
      "C28: Source coordinate Y:\t\t\t%trace_header_srcy_loc\n",
      "C29: Coordinate scale factor:\t\t%trace_header_scale_factor_loc\n",
      "C30: Number of samples per trace:\t%trace_header_samples_count_loc\n",
      "C31: Sample interval:\t\t\t\t%trace_header_sample_interval_loc\n",
      "C32: Additional trace headers count: %add_trace_header_count\n",
      "C33: \n",
      "C34: \n",
      "C35: \n",
      "C36: \n",
      "C37: \n",
      "C38: \n",
      "C39: \n",
      "C40: END TEXTUAL HEADER\n"
     ]
    }
   ],
   "source": [
    "d = th_new.to_dict()\n",
    "\n",
    "for k, v in d.items():\n",
    "    print(f'{k}: {v}')"
   ]
  },
  {
   "cell_type": "markdown",
   "metadata": {},
   "source": [
    "Видим, что у пустого текстового заголовка уже есть некоторый шаблон, в котором присутствуют паттерн для автозамены. Например, вместо __%ProductName__ можно подставить название программного продукта из которого выгружается SEG-Y файл.\n",
    "\n",
    "Самостоятельная автозамена полей нежелательна, но возможна. Например, можно заменить паттерн __%DateTime__ на дату активного написания библиотеки seismo_reader: __24.07.2020 02:00__."
   ]
  },
  {
   "cell_type": "code",
   "execution_count": 46,
   "metadata": {},
   "outputs": [],
   "source": [
    "new_C1_str = th_new.get('C 1').replace('%DateTime', '24.07.2020 02:00')"
   ]
  },
  {
   "cell_type": "code",
   "execution_count": 47,
   "metadata": {},
   "outputs": [],
   "source": [
    "th_new.set('C 1', new_C1_str)"
   ]
  },
  {
   "cell_type": "markdown",
   "metadata": {},
   "source": [
    "Снова выводим на экран словарь текстового заголовка и видим, что паттерн даты заменился на установленное значение:"
   ]
  },
  {
   "cell_type": "code",
   "execution_count": 48,
   "metadata": {},
   "outputs": [
    {
     "name": "stdout",
     "output_type": "stream",
     "text": [
      "C 1: SEG-Y OUTPUT FROM %ProductName, 24.07.2020 02:00\n",
      "C 2: NAME: %name\tType: %type\n",
      "C 3: \n",
      "C 4: Additional text headers count:\t%add_text_headers_count\n",
      "C 5: \n",
      "C 6: AREA INFO\n",
      "C 7: First CDP:\t%first_cdp,\tLast CDP:\t%last_cdp\n",
      "C 8: X min:\t\t%x_min,\tX max:\t\t%x_max,\tDelta:\t%x_delta\n",
      "C 9: Y min:\t\t%y_min,\tY max:\t\t%y_max,\tDelta:\t%y_delta\n",
      "C10: Time min:\t%time_min,\tTime max:\t%time_max,\tDelta:\t%time_delta\n",
      "C11: Lat min:\t%lat_min,\tLat max:\t%lat_max,\tDelta:\t%lat_delta\n",
      "C12: Long min:\t%long_min,\tLong max:\t%long_max,\tDelta:\t%long_delta\n",
      "C13: Trace min:\t%trace_min,\tTrace max:\t%trace_max,\tDelta:\t%trace_delta\n",
      "C14: \n",
      "C15: BINARY HEADER INFO\n",
      "C16: Location:\t\t\t\t\t\t%bin_header_loc\n",
      "C17: Sample interval:\t\t\t\t%bin_header_sample_interval_loc\n",
      "C18: Number of samples per trace:\t%bin_header_samples_count_loc\n",
      "C19: Trace data format:\t\t\t\t%bin_header_data_format_loc\n",
      "C20: \n",
      "C21: TRACE HEADER INFO\n",
      "C22: Location:\t\t\t\t\t\t%trace_header_loc\n",
      "C23: Inline number:\t\t\t\t\t%trace_header_iline_loc\n",
      "C24: Crossline number:\t\t\t\t%trace_header_crossline_loc\n",
      "C25: CDP X:\t\t\t\t\t\t\t%trace_header_cdpx_loc\n",
      "C26: CDP Y:\t\t\t\t\t\t\t%trace_header_cdpy_loc\n",
      "C27: Source coordinate X:\t\t\t%trace_header_srcx_loc\n",
      "C28: Source coordinate Y:\t\t\t%trace_header_srcy_loc\n",
      "C29: Coordinate scale factor:\t\t%trace_header_scale_factor_loc\n",
      "C30: Number of samples per trace:\t%trace_header_samples_count_loc\n",
      "C31: Sample interval:\t\t\t\t%trace_header_sample_interval_loc\n",
      "C32: Additional trace headers count: %add_trace_header_count\n",
      "C33: \n",
      "C34: \n",
      "C35: \n",
      "C36: \n",
      "C37: \n",
      "C38: \n",
      "C39: \n",
      "C40: END TEXTUAL HEADER\n"
     ]
    }
   ],
   "source": [
    "d = th_new.to_dict()\n",
    "\n",
    "for k, v in d.items():\n",
    "    print(f'{k}: {v}')"
   ]
  },
  {
   "cell_type": "markdown",
   "metadata": {},
   "source": [
    "Таким способом можно не только заменинить некоторые (или все) паттерны, но и полностью изменить текстовый заголовок на свой вкус.\n",
    "\n",
    "Однако, по-хорошему такая подстановка является костылем. Класс segy_text_header предоставляет лишь несколько методов для редактирования паттернов, которые приведены ниже:\n",
    ">__set_product_name__<br>\n",
    ">__set_object_name__<br>\n",
    ">__set_seismic_type__<br>\n",
    "\n",
    "Все остальные паттерны автоматически подставятся при записи трасс в файл, а огромные отступы примут красивый ровный вид (в теории)."
   ]
  },
  {
   "cell_type": "markdown",
   "metadata": {},
   "source": [
    "Попробуем метод __set_product_name__. Изначальная строка __C 1__ имеет вид:"
   ]
  },
  {
   "cell_type": "code",
   "execution_count": 49,
   "metadata": {},
   "outputs": [
    {
     "data": {
      "text/plain": [
       "'SEG-Y OUTPUT FROM %ProductName, 24.07.2020 02:00'"
      ]
     },
     "execution_count": 49,
     "metadata": {},
     "output_type": "execute_result"
    }
   ],
   "source": [
    "th_new.get('C 1')"
   ]
  },
  {
   "cell_type": "markdown",
   "metadata": {},
   "source": [
    "Установим новое значение для __%ProductName__."
   ]
  },
  {
   "cell_type": "code",
   "execution_count": 50,
   "metadata": {},
   "outputs": [],
   "source": [
    "th_new.set_product_name('RN-GEOSIM 1.0.4.100.200.300alpha.beta.gama')"
   ]
  },
  {
   "cell_type": "markdown",
   "metadata": {},
   "source": [
    "Получаем:"
   ]
  },
  {
   "cell_type": "code",
   "execution_count": 51,
   "metadata": {},
   "outputs": [
    {
     "data": {
      "text/plain": [
       "'SEG-Y OUTPUT FROM RN-GEOSIM 1.0.4.100.200.300alpha.beta.gama, 24.07.2020 02:00'"
      ]
     },
     "execution_count": 51,
     "metadata": {},
     "output_type": "execute_result"
    }
   ],
   "source": [
    "th_new.get('C 1')"
   ]
  },
  {
   "cell_type": "markdown",
   "metadata": {},
   "source": [
    "При попытке установить строку более 76 символов получаем исключение:"
   ]
  },
  {
   "cell_type": "code",
   "execution_count": 53,
   "metadata": {},
   "outputs": [
    {
     "ename": "ValueError",
     "evalue": "segy_text_header.cpp:85: invalid text header field size (use string with length not greater than 76 characters)",
     "output_type": "error",
     "traceback": [
      "\u001b[1;31m---------------------------------------------------------------------------\u001b[0m",
      "\u001b[1;31mValueError\u001b[0m                                Traceback (most recent call last)",
      "\u001b[1;32m<ipython-input-53-6f0d6e013339>\u001b[0m in \u001b[0;36m<module>\u001b[1;34m\u001b[0m\n\u001b[1;32m----> 1\u001b[1;33m \u001b[0mth_new\u001b[0m\u001b[1;33m.\u001b[0m\u001b[0mset\u001b[0m\u001b[1;33m(\u001b[0m\u001b[1;34m'C 1'\u001b[0m\u001b[1;33m,\u001b[0m \u001b[1;34m'1234567891012345678920123456789301234567894012345678950123456789601234567897012345678980'\u001b[0m\u001b[1;33m)\u001b[0m\u001b[1;33m\u001b[0m\u001b[0m\n\u001b[0m",
      "\u001b[1;31mValueError\u001b[0m: segy_text_header.cpp:85: invalid text header field size (use string with length not greater than 76 characters)"
     ]
    }
   ],
   "source": [
    "th_new.set('C 1', '1234567891012345678920123456789301234567894012345678950123456789601234567897012345678980')"
   ]
  },
  {
   "cell_type": "markdown",
   "metadata": {},
   "source": [
    "И поле остается необновленным:"
   ]
  },
  {
   "cell_type": "code",
   "execution_count": 55,
   "metadata": {},
   "outputs": [
    {
     "data": {
      "text/plain": [
       "'SEG-Y OUTPUT FROM RN-GEOSIM 1.0.4.100.200.300alpha.beta.gama, 24.07.2020 02:00'"
      ]
     },
     "execution_count": 55,
     "metadata": {},
     "output_type": "execute_result"
    }
   ],
   "source": [
    "th_new.get('C 1')"
   ]
  },
  {
   "cell_type": "code",
   "execution_count": null,
   "metadata": {},
   "outputs": [],
   "source": []
  }
 ],
 "metadata": {
  "kernelspec": {
   "display_name": "Python 3",
   "language": "python",
   "name": "python3"
  },
  "language_info": {
   "codemirror_mode": {
    "name": "ipython",
    "version": 3
   },
   "file_extension": ".py",
   "mimetype": "text/x-python",
   "name": "python",
   "nbconvert_exporter": "python",
   "pygments_lexer": "ipython3",
   "version": "3.6.3"
  }
 },
 "nbformat": 4,
 "nbformat_minor": 2
}
